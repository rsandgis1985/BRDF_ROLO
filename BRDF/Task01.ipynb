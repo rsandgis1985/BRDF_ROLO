{
 "cells": [
  {
   "cell_type": "markdown",
   "metadata": {},
   "source": [
    "# MODIS MCD43产品与MOD09产品地表反射率对比"
   ]
  },
  {
   "cell_type": "markdown",
   "metadata": {},
   "source": [
    "## 1.1 环境准备"
   ]
  },
  {
   "cell_type": "markdown",
   "metadata": {},
   "source": [
    "conda install -c conda-forge pyhdf  \n",
    "conda install -c conda-forge gdal"
   ]
  },
  {
   "cell_type": "code",
   "execution_count": 1,
   "metadata": {},
   "outputs": [],
   "source": [
    "import numpy as np\n",
    "import matplotlib.pyplot as plt\n",
    "import pyproj\n",
    "import tkinter\n",
    "from tkinter import  filedialog\n",
    "import os\n",
    "import fnmatch\n",
    "from pyhdf.SD import SD\n",
    "from osgeo import gdal\n",
    "from ipywidgets import IntSlider, HTML, Box, interact\n",
    "from datetime import datetime, timedelta\n",
    "import h5py"
   ]
  },
  {
   "cell_type": "markdown",
   "metadata": {},
   "source": [
    "## 1.2 核心函数定义"
   ]
  },
  {
   "cell_type": "markdown",
   "metadata": {},
   "source": [
    "### 1.2.1 BRDF核函数"
   ]
  },
  {
   "cell_type": "markdown",
   "metadata": {},
   "source": [
    "- 版本一："
   ]
  },
  {
   "cell_type": "code",
   "execution_count": 2,
   "metadata": {},
   "outputs": [],
   "source": [
    "def ross_thick(theta_i, theta_r, phi):\n",
    "    \"\"\"RossThick体散射核\"\"\"\n",
    "    theta_i = np.deg2rad(theta_i)\n",
    "    theta_r = np.deg2rad(theta_r)\n",
    "    phi = np.deg2rad(phi)\n",
    "    \n",
    "    cos_xi = np.cos(theta_i)*np.cos(theta_r) + np.sin(theta_i)*np.sin(theta_r)*np.cos(phi)\n",
    "    xi = np.arccos(np.clip(cos_xi, -1, 1))\n",
    "    \n",
    "    kernel = ((np.pi/2 - xi)*np.cos(xi) + np.sin(xi)) / (np.cos(theta_i) + np.cos(theta_r)) - np.pi/4\n",
    "    return kernel\n",
    "\n",
    "def li_sparse(theta_i, theta_r, phi):\n",
    "    \"\"\"LiSparseR几何光学核\"\"\"\n",
    "    theta_i = np.deg2rad(theta_i)\n",
    "    theta_r = np.deg2rad(theta_r)\n",
    "    phi = np.deg2rad(phi)\n",
    "    \n",
    "    cos_xi = np.cos(theta_i)*np.cos(theta_r) + np.sin(theta_i)*np.sin(theta_r)*np.cos(phi)\n",
    "    D = np.sqrt(np.tan(theta_i)**2 + np.tan(theta_r)**2 - 2*np.tan(theta_i)*np.tan(theta_r)*np.cos(phi))\n",
    "    \n",
    "    kernel = (1 + (1 + cos_xi)**-1) * (np.pi - D - np.sin(D)) / (4*np.cos(theta_i)*np.cos(theta_r))\n",
    "    return kernel"
   ]
  },
  {
   "cell_type": "markdown",
   "metadata": {},
   "source": [
    "- 版本二："
   ]
  },
  {
   "cell_type": "code",
   "execution_count": 3,
   "metadata": {},
   "outputs": [],
   "source": [
    "def ross_thick2(theta_i, theta_r, phi):\n",
    "    theta_i = np.deg2rad(theta_i)\n",
    "    theta_r = np.deg2rad(theta_r)\n",
    "    phi = np.deg2rad(phi)\n",
    "    cos_xi = np.cos(theta_i)*np.cos(theta_r) + np.sin(theta_i)*np.sin(theta_r)*np.cos(phi)\n",
    "    xi = np.arccos(np.clip(cos_xi, -1, 1))\n",
    "    sin_xi = np.sin(xi);\n",
    "    kernel = ((np.pi/2 - xi)*cos_xi + sin_xi) / (np.cos(theta_i) + np.cos(theta_r)) - np.pi/4\n",
    "    return kernel\n",
    "\n",
    "def li_sparse2(theta_i, theta_r, phi):\n",
    "    theta_i = np.deg2rad(theta_i)\n",
    "    theta_r = np.deg2rad(theta_r)\n",
    "    phi = np.deg2rad(phi)\n",
    "    HB = 2; BR = 1\n",
    "    tanvp = BR*np.tan(theta_r)\n",
    "    if tanvp <= 0:tanvp = 0.0\n",
    "    angp = np.arctan(tanvp); sinvp = np.sin(angp); cosvp = np.cos(angp)\n",
    "    tanip = BR*np.tan(theta_i)\n",
    "    if tanip <= 0:tanip = 0.0\n",
    "    angp = np.arctan(tanip); sinip = np.sin(angp); cosip = np.cos(angp)\n",
    "    cosphi = np.cos(phi)\n",
    "    sinphi = np.sin(phi)\n",
    "    cosphaangp = cosvp*cosip + sinvp*sinip*cosphi\n",
    "    phaangp = np.acos(np.clip(cosphaangp,-1,1))\n",
    "    sinphaangp = np.sin(phaangp)\n",
    "    temp1 = tanvp*tanvp+tanip*tanip-2.0*tanvp*tanip*cosphi\n",
    "    distancep = np.sqrt(np.max([0.0,temp1]))\n",
    "    temp2 = 1.0/cosvp + 1.0/cosip\n",
    "    cost = HB*np.sqrt(distancep*distancep+tanvp*tanvp*tanip*tanip*sinphi*sinphi)/temp2\n",
    "    cost = np.clip(cost, -1, 1)\n",
    "    tvar = np.acos(cost)\n",
    "    sint = np.sin(tvar)\n",
    "    overlap = 1.0/np.pi *(tvar-sint*cost)*temp2\n",
    "    overlap = np.max([0.0,overlap])\n",
    "    kernel = overlap - temp2 + 0.5 * (1.0 + cosphaangp)/cosvp/cosip\n",
    "    return kernel"
   ]
  },
  {
   "cell_type": "markdown",
   "metadata": {},
   "source": [
    "### 1.2.2 反射率模拟函数"
   ]
  },
  {
   "cell_type": "markdown",
   "metadata": {},
   "source": [
    "- 版本一："
   ]
  },
  {
   "cell_type": "code",
   "execution_count": 4,
   "metadata": {},
   "outputs": [],
   "source": [
    "def simulate_refl(f_iso, f_vol, f_geo, sza, vza, raa):\n",
    "    \"\"\"\n",
    "    计算指定几何条件下的反射率\n",
    "    Args:\n",
    "        sza: 太阳天顶角（度）\n",
    "        vza: 观测天顶角（度）\n",
    "        raa: 相对方位角（度）\n",
    "    Returns:\n",
    "        模拟反射率矩阵\n",
    "    \"\"\"\n",
    "    k_vol = ross_thick(sza, vza, raa)\n",
    "    k_geo = li_sparse(sza, vza, raa)\n",
    "    return f_iso + f_vol*k_vol + f_geo*k_geo,k_vol,k_geo"
   ]
  },
  {
   "cell_type": "markdown",
   "metadata": {},
   "source": [
    "- 版本二"
   ]
  },
  {
   "cell_type": "code",
   "execution_count": 5,
   "metadata": {},
   "outputs": [],
   "source": [
    "def simulate_refl2(f_iso, f_vol, f_geo, sza, vza, raa):\n",
    "    \"\"\"\n",
    "    计算指定几何条件下的反射率\n",
    "    Args:\n",
    "        sza: 太阳天顶角（度）\n",
    "        vza: 观测天顶角（度）\n",
    "        raa: 相对方位角（度）\n",
    "    Returns:\n",
    "        模拟反射率矩阵\n",
    "    \"\"\"\n",
    "    k_vol = ross_thick2(sza, vza, raa)\n",
    "    k_geo = li_sparse2(sza, vza, raa)\n",
    "    return f_iso + f_vol*k_vol + f_geo*k_geo,k_vol,k_geo"
   ]
  },
  {
   "cell_type": "markdown",
   "metadata": {},
   "source": [
    "### 1.2.3 读取MCD43A1 BRDF参数"
   ]
  },
  {
   "cell_type": "code",
   "execution_count": 6,
   "metadata": {},
   "outputs": [],
   "source": [
    "def read_mcd43a1_point(hdf5_name,sd_list,lon,lat,band_number=1):\n",
    "    gdal.UseExceptions()\n",
    "    # 打开HDF文件\n",
    "    hdf_ds = gdal.Open(hdf5_name)\n",
    "    if hdf_ds is None:\n",
    "        raise ValueError(\"无法打开HDF文件\")\n",
    "    else:\n",
    "        # print(\"...正在处理\" + hdf5_name) \n",
    "        pass\n",
    "    # 获取子数据集列表\n",
    "    subdatasets = hdf_ds.GetSubDatasets()\n",
    "    # print(subdatasets)\n",
    "\n",
    "    subdatasets_simple_array =np.array([])\n",
    "    subdatasets_full_array =np.array([])\n",
    "    for subdataset in subdatasets:\n",
    "        subdatasets_simple_array = np.append(subdatasets_simple_array,subdataset[1])\n",
    "        subdatasets_full_array = np.append(subdatasets_full_array,subdataset[0])\n",
    "    # print(subdatasets_array)\n",
    "    flag = 0#计数器\n",
    "    for sd_name in sd_list:\n",
    "        sd_full_name = f\"BRDF_Albedo_Parameters_Band{band_number}\"\n",
    "        # 使用列表推导式找到包含子字符串的元素的索引\n",
    "        ind = [i for i, s in enumerate(subdatasets_simple_array) if sd_full_name in s]\n",
    "        # print(subdatasets_simple_array[ind[0]])\n",
    "        # 打开选定的子数据集\n",
    "        sds_ds = gdal.Open(subdatasets_full_array[ind[0]])\n",
    "        # 获取地理变换参数和投影\n",
    "        geotransform = sds_ds.GetGeoTransform()\n",
    "        projection = sds_ds.GetProjection()\n",
    "        # 创建坐标转换器\n",
    "        crs = pyproj.CRS.from_wkt(projection)\n",
    "        transformer = pyproj.Transformer.from_crs('EPSG:4326', crs, always_xy=True)       \n",
    "        # 转换经纬度到投影坐标\n",
    "        x, y = transformer.transform(lon, lat)\n",
    "        # print([x,y])\n",
    "        # 计算行列号\n",
    "        x_origin, x_pixel = geotransform[0], geotransform[1]\n",
    "        y_origin, y_pixel = geotransform[3], geotransform[5]\n",
    "        col = int((x - x_origin) / x_pixel)\n",
    "        row = int((y - y_origin) / y_pixel)\n",
    "        if flag==0:# 统计第一个数据集的就可以，其他数据集都一样\n",
    "            # 像素中心的实际行和列索引（从0开始）\n",
    "            # 由于像素中心在相邻像素的边界上，我们需要对行和列索引进行调整\n",
    "            center_row = row + 0.5\n",
    "            center_col = col + 0.5\n",
    "            # 使用地理变换参数将像素中心的行列索引转换为地理坐标\n",
    "            center_x = geotransform[0] + center_col * geotransform[1] + center_row * geotransform[2]\n",
    "            center_y = geotransform[3] + center_col * geotransform[4] + center_row * geotransform[5]\n",
    "            distance = np.sqrt((x - center_x)**2+(y-center_y)**2)/1000.0#单位是km\n",
    "            # 创建从sinusoidal投影到WGS 84（EPSG:4326）的转换器\n",
    "            # 注意：这里我们交换了源CRS和目标CRS的顺序\n",
    "            reverse_transformer = pyproj.Transformer.from_crs(crs, 'EPSG:4326', always_xy=True)\n",
    "            # 将x, y坐标转换回经纬度坐标\n",
    "            center_lon, center_lat = reverse_transformer.transform(center_x, center_y)\n",
    "            sd_array = np.array([lon, lat, col, row, distance, center_lon, center_lat])#保存数据\n",
    "        # 读取数据并提取值\n",
    "        band1 = sds_ds.GetRasterBand(1)\n",
    "        band2 = sds_ds.GetRasterBand(2)\n",
    "        band3 = sds_ds.GetRasterBand(3)\n",
    "        # 获取元数据字典（键值对）\n",
    "        metadata = sds_ds.GetMetadata()\n",
    "        # 提取特定属性（例如scale_factor）\n",
    "        scale_factor = float(metadata.get(\"scale_factor\", None))\n",
    "        add_offset = float(metadata.get(\"add_offset\", None))\n",
    "\n",
    "        f_iso = band1.ReadAsArray()\n",
    "        f_vol = band2.ReadAsArray()\n",
    "        f_geo = band3.ReadAsArray()\n",
    "\n",
    "        # 验证行列号范围\n",
    "        rows, cols = f_iso.shape\n",
    "        if 0 <= row < rows and 0 <= col < cols:\n",
    "            f_iso_value = f_iso[row, col].item()#转换为Python标量\n",
    "            f_vol_value = f_vol[row, col].item()#转换为Python标量\n",
    "            f_geo_value = f_geo[row, col].item()#转换为Python标量\n",
    "            sd_array = np.append(sd_array, f_iso_value*scale_factor + add_offset)\n",
    "            sd_array = np.append(sd_array, f_vol_value*scale_factor + add_offset)\n",
    "            sd_array = np.append(sd_array, f_geo_value*scale_factor + add_offset)\n",
    "        else:\n",
    "            f_iso_value = None\n",
    "            f_vol_value = None\n",
    "            f_geo_value = None\n",
    "        # 关闭数据集\n",
    "        sds_ds = None\n",
    "        # 计数器数值更新\n",
    "        flag+=1\n",
    "    hdf_ds = None\n",
    "    #单波段\n",
    "    #经度，纬度，行号，列号，距离，像元经度，像元纬度，参数1，参数2，参数3\n",
    "    return sd_array\n"
   ]
  },
  {
   "cell_type": "markdown",
   "metadata": {},
   "source": [
    "### 1.2.4 读取MOD03 观测几何参数"
   ]
  },
  {
   "cell_type": "code",
   "execution_count": 7,
   "metadata": {},
   "outputs": [],
   "source": [
    "'''给定一个经纬度值从MOD03中提取数据'''\n",
    "def read_mod03_point(hdf4_name, lonlat_list, sd_list, x,y):\n",
    "    f = SD(hdf4_name);\n",
    "    Lon = np.array(f.select(lonlat_list[0]), dtype=np.float64)#得到经度数据集\n",
    "    Lat = np.array(f.select(lonlat_list[1]), dtype=np.float64)#得到纬度数据集\n",
    "    C = np.sin((90-y)*np.pi/180)*np.sin((90-Lat)*np.pi/180)*np.cos(\n",
    "        (x - Lon)*np.pi/180) + np.cos((90-y)*np.pi/180)*np.cos((90-Lat)*np.pi/180)\n",
    "    R = 6371.0; distance = R*np.arccos(C)#*np.pi/180#单位：km\n",
    "    ind = np.where(distance == np.min(distance))#得到对应行列号元组\n",
    "    index = ind#复制产生新元组\n",
    "    if np.size(index) > 2:\n",
    "        index = (index[0])#当存在多个符合条件像元时\n",
    "    sd_array = np.array([x, y, index[0][0],index[1][0],\n",
    "                         distance[index[0][0],index[1][0]],Lon[index[0][0],index[1][0]],Lat[index[0][0],index[1][0]]])#保存数据\n",
    "    for sd_name in sd_list:\n",
    "        sd_data =  np.array(f.select(sd_name), dtype=np.float64)#得到数据集\n",
    "        scale_factor = getattr(f.select(sd_name),'scale_factor',1)\n",
    "        add_offset = getattr(f.select(sd_name),'add_offset',0)      \n",
    "        if sd_data.ndim == 1:#一维数据\n",
    "            sd_array = np.append(sd_array, sd_data[index[0][0]]*scale_factor + add_offset)\n",
    "        elif sd_data.ndim == 2:#二维数据\n",
    "            sd_array = np.append(sd_array, sd_data[index[0][0],index[1][0]]*scale_factor + add_offset)\n",
    "    f.end()\n",
    "    # 利用masked_where进行掩膜，可使统计时忽略无效值\n",
    "    # refl = np.ma.masked_where(refl > 1.0, refl)\n",
    "    # sd_array = np.append(sd_array, \"\")\n",
    "    return sd_array"
   ]
  },
  {
   "cell_type": "markdown",
   "metadata": {},
   "source": [
    "### 1.2.5 读取MOD09 L2级地表反射率数据"
   ]
  },
  {
   "cell_type": "code",
   "execution_count": 8,
   "metadata": {},
   "outputs": [],
   "source": [
    "'''给定一个经纬度值从MOD09中提取数据'''\n",
    "def read_mod09_point(hdf4_name, lonlat_list, sd_list, x,y):\n",
    "    f = SD(hdf4_name);\n",
    "    Lon = np.array(f.select(lonlat_list[0]), dtype=np.float64)#得到经度数据集\n",
    "    Lat = np.array(f.select(lonlat_list[1]), dtype=np.float64)#得到纬度数据集\n",
    "    C = np.sin((90-y)*np.pi/180)*np.sin((90-Lat)*np.pi/180)*np.cos(\n",
    "        (x - Lon)*np.pi/180) + np.cos((90-y)*np.pi/180)*np.cos((90-Lat)*np.pi/180)\n",
    "    R = 6371.0; distance = R*np.arccos(C)#*np.pi/180#单位：km\n",
    "    ind = np.where(distance == np.min(distance))#得到对应行列号元组\n",
    "    index = ind#复制产生新元组\n",
    "    if np.size(index) > 2:\n",
    "        index = (index[0])#当存在多个符合条件像元时\n",
    "    sd_array = np.array([x, y, index[0][0],index[1][0],\n",
    "                         distance[index[0][0],index[1][0]],Lon[index[0][0],index[1][0]],Lat[index[0][0],index[1][0]]])#保存数据\n",
    "    for sd_name in sd_list:\n",
    "        sd_data =  np.array(f.select(sd_name), dtype=np.float64)#得到数据集\n",
    "        scale_factor = getattr(f.select(sd_name),'scale_factor')\n",
    "        add_offset = getattr(f.select(sd_name),'add_offset')\n",
    "        if sd_data.ndim == 1:#一维数据\n",
    "            sd_array = np.append(sd_array, sd_data[index[0][0]]*scale_factor + add_offset)\n",
    "        elif sd_data.ndim == 2:#二维数据\n",
    "            sd_array = np.append(sd_array, sd_data[index[0][0],index[1][0]]*scale_factor + add_offset)\n",
    "    f.end()\n",
    "    # 利用masked_where进行掩膜，可使统计时忽略无效值\n",
    "    # refl = np.ma.masked_where(refl > 1.0, refl)\n",
    "    # sd_array = np.append(sd_array, \"\")\n",
    "    return sd_array"
   ]
  },
  {
   "cell_type": "markdown",
   "metadata": {},
   "source": [
    "## 1.3 模拟与验证流程"
   ]
  },
  {
   "cell_type": "markdown",
   "metadata": {},
   "source": [
    "### 1.3.1 配置数据文件路径"
   ]
  },
  {
   "cell_type": "code",
   "execution_count": null,
   "metadata": {},
   "outputs": [
    {
     "name": "stdout",
     "output_type": "stream",
     "text": [
      "D:\\Users\\LYU\\Documents\\PyScripts\\PSG\\BRDF\\data\\MODIS@Libya4\\20240309\n"
     ]
    }
   ],
   "source": [
    "root = tkinter.Tk(); root.withdraw()#实现主窗口隐藏\n",
    "open_mod03_Name = filedialog.askopenfilename(title=\"指定一个MOD03文件\")#启动浏览目录\n",
    "# open_mcd43_Name = filedialog.askopenfilename(title=\"指定一个MCD43A1文件\")#启动浏览目录\n",
    "open_mcd43_path = filedialog.askdirectory(title=\"指定MCD43A1工作空间\")#启动浏览目录\n",
    "open_mod09_Name = filedialog.askopenfilename(title=\"指定一个MOD09文件\")#启动浏览目录\n",
    "root.destroy(); root.mainloop()#销毁GUI资源\n",
    "FilePath = os.path.dirname(open_mod03_Name)\n",
    "\n",
    "origin_path = os.chdir()\n",
    "os.chdir(FilePath)#改变当前路径\n",
    "print(os.getcwd())"
   ]
  },
  {
   "cell_type": "markdown",
   "metadata": {},
   "source": [
    "### 1.3.2 指定地面点位和数据集"
   ]
  },
  {
   "cell_type": "code",
   "execution_count": 17,
   "metadata": {},
   "outputs": [],
   "source": [
    "Libya4=[23.39,28.55]#lon,lat\n",
    "'''mod03数据集列表''' \n",
    "mod03_lonlat_list = ['Longitude','Latitude']\n",
    "mod03_sd_list = ['SolarZenith','SensorZenith','SolarAzimuth','SensorAzimuth']\n",
    "'''mod09数据集列表''' \n",
    "mod09_lonlat_list = ['Longitude','Latitude']\n",
    "mod09_sd_list = [\n",
    "    '1km Surface Reflectance Band 1','1km Surface Reflectance Band 2',\n",
    "    '1km Surface Reflectance Band 3','1km Surface Reflectance Band 4',\n",
    "    '1km Surface Reflectance Band 5','1km Surface Reflectance Band 6',\n",
    "    '1km Surface Reflectance Band 7'\n",
    "    ]\n",
    "'''mcd43需要取值的列表'''\n",
    "mcd43_sd_list = ['BRDF_Albedo_Parameters_Band']\n",
    "'''mcd43选用波段数'''\n",
    "band_count = 7 #MODIS前7个波段（需与MOD09对应）"
   ]
  },
  {
   "cell_type": "markdown",
   "metadata": {},
   "source": [
    "### 1.3.3 数据提取操作"
   ]
  },
  {
   "cell_type": "markdown",
   "metadata": {},
   "source": [
    "- 处理MOD03产品"
   ]
  },
  {
   "cell_type": "code",
   "execution_count": 18,
   "metadata": {},
   "outputs": [
    {
     "name": "stdout",
     "output_type": "stream",
     "text": [
      "[ 2.33900000e+01  2.85500000e+01  1.25700000e+03  1.00000000e+03\n",
      "  6.23186485e-01  2.33963280e+01  2.85507164e+01  3.48400000e+01\n",
      "  2.93900000e+01 -1.40950000e+02  7.95000000e+01]\n"
     ]
    }
   ],
   "source": [
    "\n",
    "#经度，纬度，行号，列号，距离，像元经度，像元纬度，SolarZenith，SensorZenith，SolarAzimuth，SensorAzimuth，RAA\n",
    "mod03_array = read_mod03_point(open_mod03_Name, mod03_lonlat_list, mod03_sd_list, Libya4[0],Libya4[1])\n",
    "print(mod03_array)"
   ]
  },
  {
   "cell_type": "markdown",
   "metadata": {},
   "source": [
    "- 处理MOD09产品"
   ]
  },
  {
   "cell_type": "code",
   "execution_count": 19,
   "metadata": {},
   "outputs": [
    {
     "name": "stdout",
     "output_type": "stream",
     "text": [
      "[ 2.33900000e+01  2.85500000e+01  1.25700000e+03  1.00000000e+03\n",
      "  6.23186485e-01  2.33963280e+01  2.85507164e+01  4.70300000e-01\n",
      "  5.73400000e-01  1.83200000e-01  3.32300000e-01  6.57300000e-01\n",
      " -2.86720000e+00  6.95100000e-01]\n"
     ]
    }
   ],
   "source": [
    "#经度，纬度，行号，列号，距离，像元经度，像元纬度，Band1，Band2，Band3，Band4，Band5，Band6，Band7\n",
    "mod09_array = read_mod09_point(open_mod09_Name, mod09_lonlat_list, mod09_sd_list, Libya4[0],Libya4[1])\n",
    "print(mod09_array)"
   ]
  },
  {
   "cell_type": "markdown",
   "metadata": {},
   "source": [
    "- 处理MCD43产品"
   ]
  },
  {
   "cell_type": "code",
   "execution_count": 20,
   "metadata": {},
   "outputs": [
    {
     "name": "stdout",
     "output_type": "stream",
     "text": [
      "Found file: D:/Users/LYU/Documents/PyScripts/PSG/BRDF/data/MODIS@Libya4/20240309\\MCD43A1.A2024073.h20v06.061.2024085220235.hdf\n",
      "Found file: D:/Users/LYU/Documents/PyScripts/PSG/BRDF/data/MODIS@Libya4/20240309\\MCD43A1.A2024074.h20v06.061.2024085223552.hdf\n",
      "Found file: D:/Users/LYU/Documents/PyScripts/PSG/BRDF/data/MODIS@Libya4/20240309\\MCD43A1.A2024075.h20v06.061.2024093024120.hdf\n",
      "Found file: D:/Users/LYU/Documents/PyScripts/PSG/BRDF/data/MODIS@Libya4/20240309\\MCD43A1.A2024076.h20v06.061.2024093214749.hdf\n",
      "Found file: D:/Users/LYU/Documents/PyScripts/PSG/BRDF/data/MODIS@Libya4/20240309\\MCD43A1.A2024077.h20v06.061.2024093235351.hdf\n",
      "Found file: D:/Users/LYU/Documents/PyScripts/PSG/BRDF/data/MODIS@Libya4/20240309\\MCD43A1.A2024078.h20v06.061.2024094010605.hdf\n",
      "Found file: D:/Users/LYU/Documents/PyScripts/PSG/BRDF/data/MODIS@Libya4/20240309\\MCD43A1.A2024079.h20v06.061.2024094145927.hdf\n",
      "Found file: D:/Users/LYU/Documents/PyScripts/PSG/BRDF/data/MODIS@Libya4/20240309\\MCD43A1.A2024080.h20v06.061.2024094170050.hdf\n"
     ]
    }
   ],
   "source": [
    "mcd43a1_filename_array = np.array([])#记录文件名\n",
    "mcd43a1_fullfileband_array = np.array([])#(文件数，波段数，参数)\n",
    "# 遍历目录中的所有文件\n",
    "for root, dirs, files in os.walk(open_mcd43_path):\n",
    "    for filename in files:\n",
    "        # 检查文件名是否包含 \"MCD43\" 字符串并且文件扩展名是 .hdf 或 .hdf5\n",
    "        if fnmatch.fnmatch(filename, 'MCD43A1*.hdf') or fnmatch.fnmatch(filename, 'MCD43A1*.hdf5'):\n",
    "            open_mcd43_Name = os.path.join(root, filename)\n",
    "            print(f'Found file: {open_mcd43_Name}')\n",
    "            mcd43a1_fullband_array = np.array([])\n",
    "            mcd43a1_filename_array = np.append(mcd43a1_filename_array,filename)\n",
    "            # 提取n个文件前7个波段的10个参数(7个常规参数+3个BRDF参数)，array_size:(n,7,10)\n",
    "            for band_number in range(1,band_count+1):\n",
    "                mcd43a1_array = read_mcd43a1_point(open_mcd43_Name,mcd43_sd_list, Libya4[0],Libya4[1],band_number)\n",
    "                if np.size(mcd43a1_fullband_array) == 0:\n",
    "                    mcd43a1_fullband_array = np.concatenate((mcd43a1_fullband_array, mcd43a1_array))\n",
    "                elif np.ndim(mcd43a1_fullband_array) == 1:\n",
    "                    mcd43a1_fullband_array = np.concatenate((mcd43a1_fullband_array[np.newaxis,:], mcd43a1_array[np.newaxis,:]))\n",
    "                elif np.ndim(mcd43a1_fullband_array) == 2:\n",
    "                    mcd43a1_fullband_array = np.concatenate((mcd43a1_fullband_array, mcd43a1_array[np.newaxis,:]))\n",
    "            # 汇总每个MCD43A1文件的数据\n",
    "            if np.size(mcd43a1_fullfileband_array) == 0:\n",
    "                mcd43a1_fullfileband_array = mcd43a1_fullband_array.copy()\n",
    "            elif np.ndim(mcd43a1_fullfileband_array) == 2:\n",
    "                mcd43a1_fullfileband_array = np.concatenate((mcd43a1_fullfileband_array[np.newaxis,:,:], mcd43a1_fullband_array[np.newaxis,:,:]))\n",
    "            elif np.ndim(mcd43a1_fullfileband_array) == 3:\n",
    "                mcd43a1_fullfileband_array = np.concatenate((mcd43a1_fullfileband_array, mcd43a1_fullband_array[np.newaxis,:,:]))"
   ]
  },
  {
   "cell_type": "markdown",
   "metadata": {},
   "source": [
    "### 1.3.4 数据汇总"
   ]
  },
  {
   "cell_type": "code",
   "execution_count": 25,
   "metadata": {},
   "outputs": [
    {
     "name": "stdout",
     "output_type": "stream",
     "text": [
      "[2.33900000e+01 2.85500000e+01 1.30000000e+02 3.47000000e+02\n",
      " 3.23822123e-01 2.33881462e+01 2.85520833e+01 4.61426127e-01\n",
      " 5.62414943e-01 1.80138314e-01 3.22975275e-01 6.19952907e-01\n",
      " 6.96781042e-01 6.36468504e-01]\n",
      "-0.11830492471156429 -1.3160923433093603\n"
     ]
    }
   ],
   "source": [
    "# 输入参数设置\n",
    "sza = mod03_array[7]  # 太阳天顶角（来自MOD03）\n",
    "vza = mod03_array[8]  # 观测天顶角\n",
    "saz = mod03_array[9]\n",
    "vaz = mod03_array[10]\n",
    "raa = (saz - vaz) % 360  # 相对方位角\n",
    "\n",
    "file_count= mcd43a1_fullfileband_array.shape[0]\n",
    "band_count= mcd43a1_fullfileband_array.shape[1]\n",
    "para_count= 7 + band_count#前7个基本参数 + 波段数\n",
    "mcd43_array = np.empty((file_count,para_count))\n",
    "for i in range(file_count):\n",
    "    temp_array = mcd43a1_fullfileband_array[i][0][:7] # 前7个基本参数\n",
    "    for j in range(0,band_count):\n",
    "        # Step 1: 读取MCD43A1数据\n",
    "        f_iso = mcd43a1_fullfileband_array[i][j][7]\n",
    "        f_vol = mcd43a1_fullfileband_array[i][j][8]\n",
    "        f_geo = mcd43a1_fullfileband_array[i][j][9]\n",
    "        # Step 2: 质量掩膜（仅保留最佳质量数据）\n",
    "        # Step 3: 计算模拟反射率\n",
    "        simulated,k_vol,k_geo = simulate_refl2(f_iso, f_vol, f_geo, sza, vza, raa)\n",
    "        # print(simulated)\n",
    "        temp_array = np.append(temp_array,simulated)\n",
    "    mcd43_array[i,:] = temp_array\n",
    "print(mcd43_array[0,:])\n",
    "print(k_vol,k_geo)"
   ]
  },
  {
   "cell_type": "markdown",
   "metadata": {},
   "source": [
    "### 1.3.5 可视化"
   ]
  },
  {
   "cell_type": "code",
   "execution_count": 17,
   "metadata": {},
   "outputs": [
    {
     "data": {
      "image/png": "[encoded data removed]",
      "text/plain": [
       "<Figure size 600x500 with 1 Axes>"
      ]
     },
     "metadata": {},
     "output_type": "display_data"
    },
    {
     "data": {
      "image/png": "[encoded data removed]",
      "text/plain": [
       "<Figure size 600x500 with 1 Axes>"
      ]
     },
     "metadata": {},
     "output_type": "display_data"
    }
   ],
   "source": [
    "%matplotlib inline\n",
    "\n",
    "# 配置 Matplotlib 使用中文字体（这里以 SimHei 为例，确保你的系统中有这个字体）\n",
    "plt.rcParams['font.sans-serif'] = ['Microsoft YaHei']  # 指定默认字体\n",
    "plt.rcParams['axes.unicode_minus'] = False  # 解决保存图像时负号'-'显示为方块的问题\n",
    "\n",
    "plt.close('all')\n",
    "mcd43_curves_name = np.array([curves_name[9:16] for curves_name in mcd43a1_filename_array])#记录文件名\n",
    "wavelengths = [0.47, 0.56, 0.65, 0.86, 1.24, 1.64, 2.13]\n",
    "mod09_ref = mod09_array[7:]\n",
    "mod09_ref[[0,1,2,3]]=mod09_ref[[2,3,0,1]]#调整波段顺序\n",
    "mcd43_ref_array = mcd43_array[:,7:]\n",
    "# 图1\n",
    "fig_1  = plt.figure(figsize=(6, 5))\n",
    "mod09_ref_plot  = plt.plot(\n",
    "    wavelengths, mod09_ref, label=\"mod09_ref\", marker='o')\n",
    "for i, curve in enumerate(mcd43_ref_array):\n",
    "    curve[[0,1,2,3]]=curve[[2,3,0,1]]#调整波段顺序，curve是mcd43_ref_array的引用，因而会改变原始值\n",
    "    plt.plot(wavelengths, curve, label=mcd43_curves_name[i])  # 使用curve_names[i]作为标签\n",
    "plt.title('Surface Reflectance for Different Wavebands')\n",
    "plt.xlabel(\"Wavelength (nm)\") # add xlabel\n",
    "plt.ylabel(\"Reflectance\") # add ylabel \n",
    "plt.ylim(0.00, 1.00) # set y limits\n",
    "# 添加图例\n",
    "plt.legend()\n",
    "# 图2\n",
    "fig_2  = plt.figure(figsize=(6, 5))\n",
    "# 求观测年积日2024080的具体年月日\n",
    "start_date = datetime(2025, 1, 1);target_date = start_date + timedelta(days=80-1);obs_day_str = target_date.strftime('%Y-%m-%d')\n",
    "ref_dif_array = (mcd43_ref_array - mod09_ref)/mod09_ref*100\n",
    "for i, curve in enumerate(ref_dif_array):\n",
    "    outlier_index = 5 # 1.64μm数值异常\n",
    "    rd_str = \"rd = \" + str(round(np.mean(np.abs(np.delete(curve,outlier_index))),2)) + \"%\"#计算rd平均值\n",
    "    plt.plot(wavelengths, curve, label=mcd43_curves_name[i]+\" \"+rd_str)# 使用curve_names[i]作为标签\n",
    "lon, lat = Libya4;form_lon = f\"{lon:.2f}°E\";form_lat = f\"{lat:.2f}°N\";lonlat_str = f\"{form_lon},{form_lat}\"\n",
    "plt.title('地表反射率相对偏差示意图('+obs_day_str+' '+lonlat_str+')')\n",
    "plt.xlabel(\"Wavelength (nm)\") # add xlabel\n",
    "plt.ylabel(\"相对偏差(%)\") # add ylabel\n",
    "plt.ylim(-10, 10) # set y limits\n",
    "# 添加图例\n",
    "plt.legend()\n",
    " \n",
    "# 显示图形\n",
    "plt.show()"
   ]
  },
  {
   "cell_type": "markdown",
   "metadata": {},
   "source": [
    "### 1.3.6 其他数据测试"
   ]
  },
  {
   "cell_type": "code",
   "execution_count": null,
   "metadata": {},
   "outputs": [
    {
     "name": "stdout",
     "output_type": "stream",
     "text": [
      "[0.19515669 0.36065714 0.50294239 0.60475419 0.68043119 0.72846968\n",
      " 0.70047116]\n",
      "0.12150151871966053 0.1786327949540818\n"
     ]
    }
   ],
   "source": [
    "os.chdir(origin_path)\n",
    "file_path = r\"data/MCD43A1_BRDF_Parameters_QA1_Libya4_YY2008_2012_AVE.hdf5\"\n",
    "with h5py.File(file_path, 'r') as f:\n",
    "    brdf_ave = f['DataFields/BRDF_Albedo_Parameters_ave'][:]\n",
    "    point_Lat_Lon = f['DataFields/LatLon'][:]\n",
    "# 验证数据形状是否符合预期\n",
    "if brdf_ave.shape != (3, 7, 12):\n",
    "    raise ValueError(f\"数据形状{brdf_ave.shape}与预期形状(3, 7, 12)不符\")\n",
    "# 输入参数设置\n",
    "month = 2 + 1 # 月份\n",
    "sza = 30.0  # 太阳天顶角\n",
    "vza = 30.0  # 观测天顶角\n",
    "raa = 0.0  # 相对方位角\n",
    "\n",
    "para_count= brdf_ave.shape[0]# 3\n",
    "band_count= brdf_ave.shape[1]# 7\n",
    "month_count= brdf_ave.shape[2]# 12\n",
    "\n",
    "mcd43_array = np.empty((month_count,band_count))\n",
    "for i in range(month_count):\n",
    "    temp_array = np.array([])\n",
    "    for j in range(0,band_count):\n",
    "        # Step 1: 读取MCD43A1数据\n",
    "        f_iso = brdf_ave[0][j][i]\n",
    "        f_vol = brdf_ave[1][j][i]\n",
    "        f_geo = brdf_ave[2][j][i]\n",
    "        # Step 2: 质量掩膜（仅保留最佳质量数据）\n",
    "        # Step 3: 计算模拟反射率\n",
    "        simulated,k_vol,k_geo = simulate_refl2(f_iso, f_vol, f_geo, sza, vza, raa)\n",
    "        # print(simulated)\n",
    "        temp_array = np.append(temp_array,simulated)\n",
    "    mcd43_array[i,:] = temp_array\n",
    "modified_array = np.column_stack((mcd43_array[:, [2, 3]], mcd43_array[:, [0, 1]], mcd43_array[:, 4:]))\n",
    "mcd43_array = modified_array\n",
    "print(mcd43_array[1,:])\n",
    "print(k_vol,k_geo)"
   ]
  },
  {
   "cell_type": "markdown",
   "metadata": {},
   "source": [
    "## 后记\n",
    "\n",
    "- 在vscode中的jupyter使用miniconda的某个虚拟环境，需要在这个虚拟环境中安装ipykernel，并进行设置。在实际使用中，vscode会自动进行响应并安装。\n",
    "\n",
    "- 如需使jupyter导出功能正常使用，需要在base环境中进行配置：  \n",
    "> pip install notebook Jinja2 nbconvert\n",
    "\n",
    "- 在base环境中，使用\"jupyter nbconvert --to markdown Task02.ipynb\"可将ipynb转成markdown  \n",
    "base环境中需配置：  \n",
    "> pip install nbconvert pandoc"
   ]
  }
 ],
 "metadata": {
  "kernelspec": {
   "display_name": "RS",
   "language": "python",
   "name": "python3"
  },
  "language_info": {
   "codemirror_mode": {
    "name": "ipython",
    "version": 3
   },
   "file_extension": ".py",
   "mimetype": "text/x-python",
   "name": "python",
   "nbconvert_exporter": "python",
   "pygments_lexer": "ipython3",
   "version": "3.12.9"
  }
 },
 "nbformat": 4,
 "nbformat_minor": 4
}
